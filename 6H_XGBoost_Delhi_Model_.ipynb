{
  "nbformat": 4,
  "nbformat_minor": 0,
  "metadata": {
    "colab": {
      "provenance": []
    },
    "kernelspec": {
      "name": "python3",
      "display_name": "Python 3"
    },
    "language_info": {
      "name": "python"
    }
  },
  "cells": [
    {
      "cell_type": "code",
      "execution_count": null,
      "metadata": {
        "id": "2RHJhTcGz8Kl"
      },
      "outputs": [],
      "source": [
        "import pandas as pd\n",
        "import seaborn as sns\n",
        "import matplotlib.pyplot as plt\n",
        "import numpy as np\n",
        "import xgboost as xgb\n",
        "import warnings \n",
        "warnings.filterwarnings('ignore')\n",
        "from sklearn.metrics import r2_score,mean_absolute_percentage_error,mean_squared_error"
      ]
    },
    {
      "cell_type": "code",
      "source": [
        "df = pd.read_csv('/content/drive/MyDrive/delhi_edit_var/Cleaned Data.csv')\n",
        "df.set_index('time',inplace = True)"
      ],
      "metadata": {
        "id": "LaeHTCB00E9m"
      },
      "execution_count": null,
      "outputs": []
    },
    {
      "cell_type": "code",
      "source": [
        "df.head()"
      ],
      "metadata": {
        "colab": {
          "base_uri": "https://localhost:8080/",
          "height": 237
        },
        "id": "HlUQd7nPL4er",
        "outputId": "9cb383d5-15ae-4d4e-9f85-590a679cc5fd"
      },
      "execution_count": null,
      "outputs": [
        {
          "output_type": "execute_result",
          "data": {
            "text/plain": [
              "                          PM2.5     PM10            tp  Surface Pressure  \\\n",
              "time                                                                       \n",
              "2017-01-01 06:00:00  230.590000  312.448  9.313226e-10      98781.468750   \n",
              "2017-01-01 07:00:00  215.407143  305.528  9.313226e-10      98797.789062   \n",
              "2017-01-01 08:00:00  208.804286  377.872  9.313226e-10      98880.539062   \n",
              "2017-01-01 09:00:00  253.340000  465.616  9.313226e-10      98962.203125   \n",
              "2017-01-01 10:00:00  242.278571  349.940  9.313226e-10      99041.390625   \n",
              "\n",
              "                     U component  V component  2m Temperature  \\\n",
              "time                                                            \n",
              "2017-01-01 06:00:00    -1.698970     0.931966      283.674408   \n",
              "2017-01-01 07:00:00    -1.695413     0.854788      283.600372   \n",
              "2017-01-01 08:00:00    -1.640148     0.604416      283.655914   \n",
              "2017-01-01 09:00:00    -1.820445     0.612526      284.214569   \n",
              "2017-01-01 10:00:00    -1.943013     0.698861      285.087982   \n",
              "\n",
              "                     Boundary Layer Height      RH_2m  wind speed  \n",
              "time                                                               \n",
              "2017-01-01 06:00:00              54.365234  99.624489    1.937798  \n",
              "2017-01-01 07:00:00              52.895996  99.611855    1.898707  \n",
              "2017-01-01 08:00:00              51.344971  99.773270    1.747971  \n",
              "2017-01-01 09:00:00              95.833008  98.974228    1.920731  \n",
              "2017-01-01 10:00:00             221.705322  93.935646    2.064875  "
            ],
            "text/html": [
              "\n",
              "  <div id=\"df-92af66dd-5245-45fc-a391-c3bd715d4f39\">\n",
              "    <div class=\"colab-df-container\">\n",
              "      <div>\n",
              "<style scoped>\n",
              "    .dataframe tbody tr th:only-of-type {\n",
              "        vertical-align: middle;\n",
              "    }\n",
              "\n",
              "    .dataframe tbody tr th {\n",
              "        vertical-align: top;\n",
              "    }\n",
              "\n",
              "    .dataframe thead th {\n",
              "        text-align: right;\n",
              "    }\n",
              "</style>\n",
              "<table border=\"1\" class=\"dataframe\">\n",
              "  <thead>\n",
              "    <tr style=\"text-align: right;\">\n",
              "      <th></th>\n",
              "      <th>PM2.5</th>\n",
              "      <th>PM10</th>\n",
              "      <th>tp</th>\n",
              "      <th>Surface Pressure</th>\n",
              "      <th>U component</th>\n",
              "      <th>V component</th>\n",
              "      <th>2m Temperature</th>\n",
              "      <th>Boundary Layer Height</th>\n",
              "      <th>RH_2m</th>\n",
              "      <th>wind speed</th>\n",
              "    </tr>\n",
              "    <tr>\n",
              "      <th>time</th>\n",
              "      <th></th>\n",
              "      <th></th>\n",
              "      <th></th>\n",
              "      <th></th>\n",
              "      <th></th>\n",
              "      <th></th>\n",
              "      <th></th>\n",
              "      <th></th>\n",
              "      <th></th>\n",
              "      <th></th>\n",
              "    </tr>\n",
              "  </thead>\n",
              "  <tbody>\n",
              "    <tr>\n",
              "      <th>2017-01-01 06:00:00</th>\n",
              "      <td>230.590000</td>\n",
              "      <td>312.448</td>\n",
              "      <td>9.313226e-10</td>\n",
              "      <td>98781.468750</td>\n",
              "      <td>-1.698970</td>\n",
              "      <td>0.931966</td>\n",
              "      <td>283.674408</td>\n",
              "      <td>54.365234</td>\n",
              "      <td>99.624489</td>\n",
              "      <td>1.937798</td>\n",
              "    </tr>\n",
              "    <tr>\n",
              "      <th>2017-01-01 07:00:00</th>\n",
              "      <td>215.407143</td>\n",
              "      <td>305.528</td>\n",
              "      <td>9.313226e-10</td>\n",
              "      <td>98797.789062</td>\n",
              "      <td>-1.695413</td>\n",
              "      <td>0.854788</td>\n",
              "      <td>283.600372</td>\n",
              "      <td>52.895996</td>\n",
              "      <td>99.611855</td>\n",
              "      <td>1.898707</td>\n",
              "    </tr>\n",
              "    <tr>\n",
              "      <th>2017-01-01 08:00:00</th>\n",
              "      <td>208.804286</td>\n",
              "      <td>377.872</td>\n",
              "      <td>9.313226e-10</td>\n",
              "      <td>98880.539062</td>\n",
              "      <td>-1.640148</td>\n",
              "      <td>0.604416</td>\n",
              "      <td>283.655914</td>\n",
              "      <td>51.344971</td>\n",
              "      <td>99.773270</td>\n",
              "      <td>1.747971</td>\n",
              "    </tr>\n",
              "    <tr>\n",
              "      <th>2017-01-01 09:00:00</th>\n",
              "      <td>253.340000</td>\n",
              "      <td>465.616</td>\n",
              "      <td>9.313226e-10</td>\n",
              "      <td>98962.203125</td>\n",
              "      <td>-1.820445</td>\n",
              "      <td>0.612526</td>\n",
              "      <td>284.214569</td>\n",
              "      <td>95.833008</td>\n",
              "      <td>98.974228</td>\n",
              "      <td>1.920731</td>\n",
              "    </tr>\n",
              "    <tr>\n",
              "      <th>2017-01-01 10:00:00</th>\n",
              "      <td>242.278571</td>\n",
              "      <td>349.940</td>\n",
              "      <td>9.313226e-10</td>\n",
              "      <td>99041.390625</td>\n",
              "      <td>-1.943013</td>\n",
              "      <td>0.698861</td>\n",
              "      <td>285.087982</td>\n",
              "      <td>221.705322</td>\n",
              "      <td>93.935646</td>\n",
              "      <td>2.064875</td>\n",
              "    </tr>\n",
              "  </tbody>\n",
              "</table>\n",
              "</div>\n",
              "      <button class=\"colab-df-convert\" onclick=\"convertToInteractive('df-92af66dd-5245-45fc-a391-c3bd715d4f39')\"\n",
              "              title=\"Convert this dataframe to an interactive table.\"\n",
              "              style=\"display:none;\">\n",
              "        \n",
              "  <svg xmlns=\"http://www.w3.org/2000/svg\" height=\"24px\"viewBox=\"0 0 24 24\"\n",
              "       width=\"24px\">\n",
              "    <path d=\"M0 0h24v24H0V0z\" fill=\"none\"/>\n",
              "    <path d=\"M18.56 5.44l.94 2.06.94-2.06 2.06-.94-2.06-.94-.94-2.06-.94 2.06-2.06.94zm-11 1L8.5 8.5l.94-2.06 2.06-.94-2.06-.94L8.5 2.5l-.94 2.06-2.06.94zm10 10l.94 2.06.94-2.06 2.06-.94-2.06-.94-.94-2.06-.94 2.06-2.06.94z\"/><path d=\"M17.41 7.96l-1.37-1.37c-.4-.4-.92-.59-1.43-.59-.52 0-1.04.2-1.43.59L10.3 9.45l-7.72 7.72c-.78.78-.78 2.05 0 2.83L4 21.41c.39.39.9.59 1.41.59.51 0 1.02-.2 1.41-.59l7.78-7.78 2.81-2.81c.8-.78.8-2.07 0-2.86zM5.41 20L4 18.59l7.72-7.72 1.47 1.35L5.41 20z\"/>\n",
              "  </svg>\n",
              "      </button>\n",
              "      \n",
              "  <style>\n",
              "    .colab-df-container {\n",
              "      display:flex;\n",
              "      flex-wrap:wrap;\n",
              "      gap: 12px;\n",
              "    }\n",
              "\n",
              "    .colab-df-convert {\n",
              "      background-color: #E8F0FE;\n",
              "      border: none;\n",
              "      border-radius: 50%;\n",
              "      cursor: pointer;\n",
              "      display: none;\n",
              "      fill: #1967D2;\n",
              "      height: 32px;\n",
              "      padding: 0 0 0 0;\n",
              "      width: 32px;\n",
              "    }\n",
              "\n",
              "    .colab-df-convert:hover {\n",
              "      background-color: #E2EBFA;\n",
              "      box-shadow: 0px 1px 2px rgba(60, 64, 67, 0.3), 0px 1px 3px 1px rgba(60, 64, 67, 0.15);\n",
              "      fill: #174EA6;\n",
              "    }\n",
              "\n",
              "    [theme=dark] .colab-df-convert {\n",
              "      background-color: #3B4455;\n",
              "      fill: #D2E3FC;\n",
              "    }\n",
              "\n",
              "    [theme=dark] .colab-df-convert:hover {\n",
              "      background-color: #434B5C;\n",
              "      box-shadow: 0px 1px 3px 1px rgba(0, 0, 0, 0.15);\n",
              "      filter: drop-shadow(0px 1px 2px rgba(0, 0, 0, 0.3));\n",
              "      fill: #FFFFFF;\n",
              "    }\n",
              "  </style>\n",
              "\n",
              "      <script>\n",
              "        const buttonEl =\n",
              "          document.querySelector('#df-92af66dd-5245-45fc-a391-c3bd715d4f39 button.colab-df-convert');\n",
              "        buttonEl.style.display =\n",
              "          google.colab.kernel.accessAllowed ? 'block' : 'none';\n",
              "\n",
              "        async function convertToInteractive(key) {\n",
              "          const element = document.querySelector('#df-92af66dd-5245-45fc-a391-c3bd715d4f39');\n",
              "          const dataTable =\n",
              "            await google.colab.kernel.invokeFunction('convertToInteractive',\n",
              "                                                     [key], {});\n",
              "          if (!dataTable) return;\n",
              "\n",
              "          const docLinkHtml = 'Like what you see? Visit the ' +\n",
              "            '<a target=\"_blank\" href=https://colab.research.google.com/notebooks/data_table.ipynb>data table notebook</a>'\n",
              "            + ' to learn more about interactive tables.';\n",
              "          element.innerHTML = '';\n",
              "          dataTable['output_type'] = 'display_data';\n",
              "          await google.colab.output.renderOutput(dataTable, element);\n",
              "          const docLink = document.createElement('div');\n",
              "          docLink.innerHTML = docLinkHtml;\n",
              "          element.appendChild(docLink);\n",
              "        }\n",
              "      </script>\n",
              "    </div>\n",
              "  </div>\n",
              "  "
            ]
          },
          "metadata": {},
          "execution_count": 3
        }
      ]
    },
    {
      "cell_type": "code",
      "source": [
        "#@title Separate Winter Time\n",
        "winter_2017 = df.loc['2017-10-01 00:00:00':'2018-02-28 23:00:00']\n",
        "winter_2018 = df.loc['2018-10-01 00:00:00':'2019-02-28 23:00:00']\n",
        "winter_2019 = df.loc['2019-10-01 00:00:00':'2020-02-29 23:00:00']\n",
        "winter_2020 = df.loc['2020-10-01 00:00:00':'2021-02-28 23:00:00']\n",
        "winter_2021 = df.loc['2021-10-01 00:00:00':'2022-02-28 23:00:00']"
      ],
      "metadata": {
        "id": "Q3RUtf-A0n0w"
      },
      "execution_count": null,
      "outputs": []
    },
    {
      "cell_type": "code",
      "source": [
        "#@title Supervised Split\n",
        "def supervised_split(df,i=1,lag = 24):\n",
        "  df_as_np = df.iloc[:,i].to_numpy()\n",
        "  X,Y = [],[]\n",
        "  for i in range(len(df_as_np)-lag):\n",
        "    X.append(df_as_np[i:i+lag])\n",
        "    Y.append(df_as_np[i+lag])\n",
        "  return np.array(X), np.array(Y)"
      ],
      "metadata": {
        "cellView": "code",
        "id": "SI8_NN3M01AF"
      },
      "execution_count": null,
      "outputs": []
    },
    {
      "cell_type": "code",
      "source": [
        "i = 9\n",
        "X_2017,y_2017 = supervised_split(winter_2017,i)\n",
        "X_2018,y_2018 = supervised_split(winter_2018,i)\n",
        "X_2019,y_2019 = supervised_split(winter_2019,i)\n",
        "\n",
        "X_val,y_val =   supervised_split(winter_2020,i)\n",
        "X_test,y_test = supervised_split(winter_2021,i)\n",
        "X_train,y_train = np.concatenate([X_2017,X_2018,X_2019],axis = 0),np.concatenate([y_2017,y_2018,y_2019],axis = 0)"
      ],
      "metadata": {
        "id": "aoYtI2h53GqO"
      },
      "execution_count": null,
      "outputs": []
    },
    {
      "cell_type": "code",
      "source": [
        "#@title XGBoost Model\n",
        "reg = xgb.XGBRegressor(n_estimators=1000,objective='reg:squarederror')\n",
        "reg.fit(X_train, y_train,\n",
        "        eval_set=[(X_train, y_train), (X_val, y_val)],\n",
        "        early_stopping_rounds=None,\n",
        "        verbose=False)\n",
        "reg.score(X_test,y_test)"
      ],
      "metadata": {
        "colab": {
          "base_uri": "https://localhost:8080/"
        },
        "id": "ZPWXe3V83-lW",
        "outputId": "e47549be-6934-4752-c044-dd43936bbfd2"
      },
      "execution_count": null,
      "outputs": [
        {
          "output_type": "execute_result",
          "data": {
            "text/plain": [
              "0.8796903338772714"
            ]
          },
          "metadata": {},
          "execution_count": 200
        }
      ]
    },
    {
      "cell_type": "code",
      "source": [
        "#@title Multi-Step Predictions\n",
        "def multistep_prediction(i=0):\n",
        "    ## Multi Step Predictions ##\n",
        "    multistep_predictions = []\n",
        "    last_x = X_test[i]\n",
        "    while len(multistep_predictions)<len(last_x)/4:\n",
        "        p = reg.predict(last_x.reshape(1,-1))[0]\n",
        "        # Update the Prediction List\n",
        "        multistep_predictions.append(p)\n",
        "        # Make the New Input\n",
        "        last_x = np.roll(last_x,-1)\n",
        "        last_x[-1] = p\n",
        "    # a = pd.DataFrame(data = {'Actuals':y_test[i:i+6],'Predictions': multistep_predictions})\n",
        "    return multistep_predictions"
      ],
      "metadata": {
        "id": "XYzOpYRw4Ip9"
      },
      "execution_count": null,
      "outputs": []
    },
    {
      "cell_type": "code",
      "source": [
        "rh_predictions = [multistep_prediction(i) for i in range(len(X_test))]\n",
        "with open('/content/drive/MyDrive/Numpy files/ws.npy','wb') as f:\n",
        "  np.save(f,np.array(rh_predictions))"
      ],
      "metadata": {
        "id": "hFzs8f5RyHWd"
      },
      "execution_count": null,
      "outputs": []
    },
    {
      "cell_type": "code",
      "source": [
        "import os \n",
        "base_path = '/content/drive/MyDrive/Numpy files/'\n",
        "files = os.listdir(base_path)[1:]\n",
        "np_req = []\n",
        "for i in files:\n",
        "  with open(f'/content/drive/MyDrive/Numpy files/{i}','rb') as f:\n",
        "    a = np.load(f)\n",
        "    np_req.append(a)"
      ],
      "metadata": {
        "id": "sGXEyx2U_WzE"
      },
      "execution_count": null,
      "outputs": []
    },
    {
      "cell_type": "code",
      "source": [
        "pm10  = np_req[0]\n",
        "tp    = np_req[1]\n",
        "sp    = np_req[2]\n",
        "u     = np_req[3]\n",
        "v     = np_req[4]\n",
        "temp  = np_req[5]\n",
        "blh   = np_req[6]\n",
        "rh    = np_req[7]\n",
        "ws    = np_req[8]"
      ],
      "metadata": {
        "id": "cQdoz4xpFlwq"
      },
      "execution_count": null,
      "outputs": []
    },
    {
      "cell_type": "code",
      "source": [
        "def pred(i):\n",
        "  df_new = pd.DataFrame(data = np.stack([pm10[:,i],tp[:,i],sp[:,i],u[:,i],v[:,i],temp[:,i],blh[:,i],rh[:,i],ws[:,i]],axis = 1)\n",
        "   , columns= X_train_reg.columns)\n",
        "  return df_new"
      ],
      "metadata": {
        "id": "UrUHe0alHs_a"
      },
      "execution_count": null,
      "outputs": []
    },
    {
      "cell_type": "code",
      "source": [
        "first_hour = pred(0)"
      ],
      "metadata": {
        "id": "E6hhb1RoM8Iv"
      },
      "execution_count": null,
      "outputs": []
    },
    {
      "cell_type": "markdown",
      "source": [
        "# XGBOOST Normal Regression Model\n",
        "\n",
        "\n",
        "\n"
      ],
      "metadata": {
        "id": "fCVrLsQ-NImP"
      }
    },
    {
      "cell_type": "code",
      "source": [
        "df = pd.read_csv('/content/drive/MyDrive/delhi_edit_var/Cleaned Data.csv')\n",
        "df.set_index('time',inplace = True)"
      ],
      "metadata": {
        "id": "hu_urQsnNRuA"
      },
      "execution_count": null,
      "outputs": []
    },
    {
      "cell_type": "code",
      "source": [
        "winter_2017 = df.loc['2017-10-01 00:00:00':'2018-02-28 23:00:00']\n",
        "winter_2018 = df.loc['2018-10-01 00:00:00':'2019-02-28 23:00:00']\n",
        "winter_2019 = df.loc['2019-10-01 00:00:00':'2020-02-29 23:00:00']\n",
        "winter_2020 = df.loc['2020-10-01 00:00:00':'2021-02-28 23:00:00']\n",
        "winter_2021 = df.loc['2021-10-01 00:00:00':'2022-02-28 23:00:00']"
      ],
      "metadata": {
        "id": "m_6tyllFNEHV"
      },
      "execution_count": null,
      "outputs": []
    },
    {
      "cell_type": "markdown",
      "source": [
        "## Train Test Split"
      ],
      "metadata": {
        "id": "zshcdVZyNdww"
      }
    },
    {
      "cell_type": "code",
      "source": [
        "train_data_reg = pd.concat([winter_2017,winter_2018,winter_2019],axis=0)\n",
        "X_train_reg,y_train_reg = train_data_reg.drop(columns=['PM2.5']),train_data_reg['PM2.5']\n",
        "X_val_reg,y_val_reg   = winter_2020.drop(columns=['PM2.5']),winter_2020['PM2.5']\n",
        "X_test_reg,y_test_reg = winter_2021.drop(columns=['PM2.5']),winter_2021['PM2.5']"
      ],
      "metadata": {
        "id": "j_UvI0mwNWPX"
      },
      "execution_count": null,
      "outputs": []
    },
    {
      "cell_type": "code",
      "source": [
        "model = xgb.XGBRegressor(n_estimators=1000,objective = 'reg:squarederror')\n",
        "model.fit(X_train_reg, y_train_reg,\n",
        "        eval_set=[(X_train_reg, y_train_reg), (X_val_reg, y_val_reg)],\n",
        "        early_stopping_rounds=None,\n",
        "       verbose=False)"
      ],
      "metadata": {
        "colab": {
          "base_uri": "https://localhost:8080/"
        },
        "id": "m-25hZO-NbLA",
        "outputId": "b1c2e6fa-49b5-4eea-ae5f-89a0d4b08756"
      },
      "execution_count": null,
      "outputs": [
        {
          "output_type": "execute_result",
          "data": {
            "text/plain": [
              "XGBRegressor(n_estimators=1000, objective='reg:squarederror')"
            ]
          },
          "metadata": {},
          "execution_count": 7
        }
      ]
    },
    {
      "cell_type": "code",
      "source": [
        "model.score(X_test_reg,y_test_reg)"
      ],
      "metadata": {
        "colab": {
          "base_uri": "https://localhost:8080/"
        },
        "id": "LWXUW_EjNswC",
        "outputId": "483c47be-9e20-44bf-93c7-6969cca164fe"
      },
      "execution_count": null,
      "outputs": [
        {
          "output_type": "execute_result",
          "data": {
            "text/plain": [
              "0.9399245330324947"
            ]
          },
          "metadata": {},
          "execution_count": 8
        }
      ]
    },
    {
      "cell_type": "code",
      "source": [
        "pd.DataFrame({'Actuals':y_test_reg,'Predictions':model.predict(X_test_reg)})[-150:].plot(figsize = (15,6))\n",
        "plt.tight_layout()"
      ],
      "metadata": {
        "colab": {
          "base_uri": "https://localhost:8080/",
          "height": 441
        },
        "id": "n-MfpQQAOKEY",
        "outputId": "021d3dd5-047c-4f71-90fe-209fa2ac2cd2"
      },
      "execution_count": null,
      "outputs": [
        {
          "output_type": "display_data",
          "data": {
            "text/plain": [
              "<Figure size 1080x432 with 1 Axes>"
            ],
            "image/png": "[encoded data removed]"
          },
          "metadata": {
            "needs_background": "light"
          }
        }
      ]
    },
    {
      "cell_type": "markdown",
      "source": [
        "## Save and Load XGBoost Model"
      ],
      "metadata": {
        "id": "fgRzVCKPOCaU"
      }
    },
    {
      "cell_type": "code",
      "source": [
        "import pickle\n",
        "# Save Model\n",
        "file_name = '/content/drive/MyDrive/delhi_edit_var/xgb_reg.pkl'\n",
        "pickle.dump(model,open(file_name,'wb'))\n",
        "\n",
        "# # Load Model\n",
        "# xgb_loaded_model = pickle.load(open(file_name,'rb'))"
      ],
      "metadata": {
        "id": "VeDvOx1qOGE7"
      },
      "execution_count": null,
      "outputs": []
    },
    {
      "cell_type": "markdown",
      "source": [
        "# First Hour Predictions"
      ],
      "metadata": {
        "id": "PG7jmuaVhWhw"
      }
    },
    {
      "cell_type": "code",
      "source": [
        "pred_1h_pm25 = model.predict(first_hour)"
      ],
      "metadata": {
        "id": "pyOPaAaJiuo7"
      },
      "execution_count": null,
      "outputs": []
    },
    {
      "cell_type": "code",
      "source": [
        "r2_score(y_test_reg.values[24:],pred_1h_pm25)"
      ],
      "metadata": {
        "colab": {
          "base_uri": "https://localhost:8080/"
        },
        "id": "yLzgoax8K8Jt",
        "outputId": "bf00b697-41c9-49d9-d567-6237593129dd"
      },
      "execution_count": null,
      "outputs": [
        {
          "output_type": "execute_result",
          "data": {
            "text/plain": [
              "0.9278821762907539"
            ]
          },
          "metadata": {},
          "execution_count": 19
        }
      ]
    },
    {
      "cell_type": "code",
      "source": [
        "np.corrcoef(pred_1h_pm25,y_test_reg.values[24:])[1,0]"
      ],
      "metadata": {
        "colab": {
          "base_uri": "https://localhost:8080/"
        },
        "id": "-A_9VfniMEs7",
        "outputId": "8a28a002-e9c6-487f-eb47-12e776cc9d10"
      },
      "execution_count": null,
      "outputs": [
        {
          "output_type": "execute_result",
          "data": {
            "text/plain": [
              "0.9665414681753376"
            ]
          },
          "metadata": {},
          "execution_count": 20
        }
      ]
    },
    {
      "cell_type": "code",
      "source": [
        "mean_absolute_percentage_error(y_test_reg.values[24:],pred_1h_pm25)*100"
      ],
      "metadata": {
        "colab": {
          "base_uri": "https://localhost:8080/"
        },
        "id": "304eEyqZMr2z",
        "outputId": "cb20bf4b-732f-4cf5-e5aa-693be71006f8"
      },
      "execution_count": null,
      "outputs": [
        {
          "output_type": "execute_result",
          "data": {
            "text/plain": [
              "16.96869157582203"
            ]
          },
          "metadata": {},
          "execution_count": 21
        }
      ]
    },
    {
      "cell_type": "code",
      "source": [
        "pd.DataFrame({'Actual':y_test_reg.values[24:],'Predicted':pred_1h_pm25})[:150].plot(figsize=(15,6))"
      ],
      "metadata": {
        "colab": {
          "base_uri": "https://localhost:8080/",
          "height": 391
        },
        "id": "YOz_uQmiLkKZ",
        "outputId": "47092ec9-bbcd-4e1e-d82b-cbf7347c986a"
      },
      "execution_count": null,
      "outputs": [
        {
          "output_type": "execute_result",
          "data": {
            "text/plain": [
              "<matplotlib.axes._subplots.AxesSubplot at 0x7f214cdbefd0>"
            ]
          },
          "metadata": {},
          "execution_count": 22
        },
        {
          "output_type": "display_data",
          "data": {
            "text/plain": [
              "<Figure size 1080x432 with 1 Axes>"
            ],
            "image/png": "[encoded data removed]"
          },
          "metadata": {
            "needs_background": "light"
          }
        }
      ]
    },
    {
      "cell_type": "markdown",
      "source": [
        "# Second Hour Predictions "
      ],
      "metadata": {
        "id": "hOFWlYR7LikY"
      }
    },
    {
      "cell_type": "code",
      "source": [
        "second_hour = pred(1)"
      ],
      "metadata": {
        "id": "d6L07mMHNhPh"
      },
      "execution_count": null,
      "outputs": []
    },
    {
      "cell_type": "code",
      "source": [
        "pred_2h_pm25 = model.predict(second_hour)"
      ],
      "metadata": {
        "id": "ZjNQUs6lLVQy"
      },
      "execution_count": null,
      "outputs": []
    },
    {
      "cell_type": "code",
      "source": [
        "r2_score(y_test_reg.values[25:],pred_2h_pm25[:-1])"
      ],
      "metadata": {
        "colab": {
          "base_uri": "https://localhost:8080/"
        },
        "id": "k4Z3SvU1Nzwq",
        "outputId": "598a1efb-db47-4c6f-838e-437685ef8cd2"
      },
      "execution_count": null,
      "outputs": [
        {
          "output_type": "execute_result",
          "data": {
            "text/plain": [
              "0.8890947136901168"
            ]
          },
          "metadata": {},
          "execution_count": 25
        }
      ]
    },
    {
      "cell_type": "code",
      "source": [
        "np.corrcoef(pred_2h_pm25[:-1],y_test_reg.values[25:])[1,0]"
      ],
      "metadata": {
        "colab": {
          "base_uri": "https://localhost:8080/"
        },
        "id": "M3QdG5jLOuio",
        "outputId": "8e805340-0fe8-42af-f135-dbcb9564beb2"
      },
      "execution_count": null,
      "outputs": [
        {
          "output_type": "execute_result",
          "data": {
            "text/plain": [
              "0.946804274012382"
            ]
          },
          "metadata": {},
          "execution_count": 26
        }
      ]
    },
    {
      "cell_type": "code",
      "source": [
        "mean_absolute_percentage_error(y_test_reg.values[25:],pred_2h_pm25[:-1])*100"
      ],
      "metadata": {
        "colab": {
          "base_uri": "https://localhost:8080/"
        },
        "id": "qQO3493IPFNq",
        "outputId": "f03ad1b3-776e-4300-e2df-1f9a18296845"
      },
      "execution_count": null,
      "outputs": [
        {
          "output_type": "execute_result",
          "data": {
            "text/plain": [
              "21.215313415041017"
            ]
          },
          "metadata": {},
          "execution_count": 27
        }
      ]
    },
    {
      "cell_type": "code",
      "source": [
        "pd.DataFrame({'Actual':y_test_reg.values[25:],'Predicted':pred_2h_pm25[:-1]})[:150].plot(figsize=(15,6))"
      ],
      "metadata": {
        "colab": {
          "base_uri": "https://localhost:8080/",
          "height": 391
        },
        "id": "QRW5PyRrQBxD",
        "outputId": "6dc47772-18bb-4a39-e200-52b55178fe69"
      },
      "execution_count": null,
      "outputs": [
        {
          "output_type": "execute_result",
          "data": {
            "text/plain": [
              "<matplotlib.axes._subplots.AxesSubplot at 0x7f214ccc0b90>"
            ]
          },
          "metadata": {},
          "execution_count": 45
        },
        {
          "output_type": "display_data",
          "data": {
            "text/plain": [
              "<Figure size 1080x432 with 1 Axes>"
            ],
            "image/png": "[encoded data removed]"
          },
          "metadata": {
            "needs_background": "light"
          }
        }
      ]
    },
    {
      "cell_type": "markdown",
      "source": [
        "# Third Hour Predictions"
      ],
      "metadata": {
        "id": "k0mY-T2uPZ8C"
      }
    },
    {
      "cell_type": "code",
      "source": [
        "third_hour = pred(2)\n",
        "pred_3h_pm25 = model.predict(third_hour)"
      ],
      "metadata": {
        "id": "ZbptkK5OPZS5"
      },
      "execution_count": null,
      "outputs": []
    },
    {
      "cell_type": "code",
      "source": [
        "r2_score(y_test_reg.values[26:],pred_3h_pm25[:-2])"
      ],
      "metadata": {
        "colab": {
          "base_uri": "https://localhost:8080/"
        },
        "id": "bTtX96qsPvry",
        "outputId": "01a14844-a105-4d14-c362-82560949f4ff"
      },
      "execution_count": null,
      "outputs": [
        {
          "output_type": "execute_result",
          "data": {
            "text/plain": [
              "0.8317116635095483"
            ]
          },
          "metadata": {},
          "execution_count": 29
        }
      ]
    },
    {
      "cell_type": "code",
      "source": [
        "np.corrcoef(pred_3h_pm25[:-2],y_test_reg.values[26:])[1,0]"
      ],
      "metadata": {
        "colab": {
          "base_uri": "https://localhost:8080/"
        },
        "id": "bAE1gYYoP_up",
        "outputId": "1f0caef3-c3e9-4cae-f39c-014b86dbb2ad"
      },
      "execution_count": null,
      "outputs": [
        {
          "output_type": "execute_result",
          "data": {
            "text/plain": [
              "0.9164293272332896"
            ]
          },
          "metadata": {},
          "execution_count": 30
        }
      ]
    },
    {
      "cell_type": "code",
      "source": [
        "mean_absolute_percentage_error(y_test_reg.values[26:],pred_3h_pm25[:-2])*100"
      ],
      "metadata": {
        "colab": {
          "base_uri": "https://localhost:8080/"
        },
        "id": "vMw3if_AM3U-",
        "outputId": "ecd6acd3-4736-4990-c005-eef1900d882f"
      },
      "execution_count": null,
      "outputs": [
        {
          "output_type": "execute_result",
          "data": {
            "text/plain": [
              "25.53613623176738"
            ]
          },
          "metadata": {},
          "execution_count": 31
        }
      ]
    },
    {
      "cell_type": "markdown",
      "source": [
        "# Fourth Hour Predictions"
      ],
      "metadata": {
        "id": "yGFBS3WlQT41"
      }
    },
    {
      "cell_type": "code",
      "source": [
        "pred_4h_pm25 = model.predict(pred(3))"
      ],
      "metadata": {
        "id": "mTU0Or3JQDHx"
      },
      "execution_count": null,
      "outputs": []
    },
    {
      "cell_type": "code",
      "source": [
        "r2_score(y_test_reg.values[27:],pred_4h_pm25[:-3])"
      ],
      "metadata": {
        "colab": {
          "base_uri": "https://localhost:8080/"
        },
        "id": "4PF9C23sQijA",
        "outputId": "9ed185f1-3b6d-4437-949a-0fab734c0647"
      },
      "execution_count": null,
      "outputs": [
        {
          "output_type": "execute_result",
          "data": {
            "text/plain": [
              "0.7681162508997472"
            ]
          },
          "metadata": {},
          "execution_count": 33
        }
      ]
    },
    {
      "cell_type": "code",
      "source": [
        "np.corrcoef(pred_4h_pm25[:-3],y_test_reg.values[27:])[1,0]"
      ],
      "metadata": {
        "colab": {
          "base_uri": "https://localhost:8080/"
        },
        "id": "QPgyTdPzQq1H",
        "outputId": "94f53ce7-00f7-4552-f3fd-864c7835926a"
      },
      "execution_count": null,
      "outputs": [
        {
          "output_type": "execute_result",
          "data": {
            "text/plain": [
              "0.8821136299160683"
            ]
          },
          "metadata": {},
          "execution_count": 34
        }
      ]
    },
    {
      "cell_type": "code",
      "source": [
        "mean_absolute_percentage_error(y_test_reg.values[27:],pred_4h_pm25[:-3])*100"
      ],
      "metadata": {
        "colab": {
          "base_uri": "https://localhost:8080/"
        },
        "id": "2iNL1SXPNAOM",
        "outputId": "5742de37-445f-4cb4-cb9f-c10066fbdbd9"
      },
      "execution_count": null,
      "outputs": [
        {
          "output_type": "execute_result",
          "data": {
            "text/plain": [
              "30.214746188350745"
            ]
          },
          "metadata": {},
          "execution_count": 35
        }
      ]
    },
    {
      "cell_type": "markdown",
      "source": [
        "# Fifth Hour Predictions"
      ],
      "metadata": {
        "id": "Eu7Fs4kVQ7-4"
      }
    },
    {
      "cell_type": "code",
      "source": [
        "pred_5h_pm25 = model.predict(pred(4))"
      ],
      "metadata": {
        "id": "8NKraAxcQ-_a"
      },
      "execution_count": null,
      "outputs": []
    },
    {
      "cell_type": "code",
      "source": [
        "r2_score(y_test_reg.values[28:],pred_5h_pm25[:-4])"
      ],
      "metadata": {
        "colab": {
          "base_uri": "https://localhost:8080/"
        },
        "id": "85hwim7rRMaw",
        "outputId": "1a055d23-d855-4775-f99e-f8c98b565685"
      },
      "execution_count": null,
      "outputs": [
        {
          "output_type": "execute_result",
          "data": {
            "text/plain": [
              "0.7095383804725669"
            ]
          },
          "metadata": {},
          "execution_count": 37
        }
      ]
    },
    {
      "cell_type": "code",
      "source": [
        "np.corrcoef(pred_5h_pm25[:-4],y_test_reg.values[28:])[1,0]"
      ],
      "metadata": {
        "colab": {
          "base_uri": "https://localhost:8080/"
        },
        "id": "IxjAH-AdRR6A",
        "outputId": "0a3d0af7-ebe6-47bd-9df1-d82b383554f8"
      },
      "execution_count": null,
      "outputs": [
        {
          "output_type": "execute_result",
          "data": {
            "text/plain": [
              "0.849768121081477"
            ]
          },
          "metadata": {},
          "execution_count": 38
        }
      ]
    },
    {
      "cell_type": "code",
      "source": [
        "mean_absolute_percentage_error(y_test_reg.values[28:],pred_5h_pm25[:-4])*100"
      ],
      "metadata": {
        "colab": {
          "base_uri": "https://localhost:8080/"
        },
        "id": "FetTpho2NH16",
        "outputId": "abba53e3-d361-497a-8040-27dba234162c"
      },
      "execution_count": null,
      "outputs": [
        {
          "output_type": "execute_result",
          "data": {
            "text/plain": [
              "33.75566744269733"
            ]
          },
          "metadata": {},
          "execution_count": 39
        }
      ]
    },
    {
      "cell_type": "markdown",
      "source": [
        "# Sixth Hour Predictions"
      ],
      "metadata": {
        "id": "s3TkBsMKRXOJ"
      }
    },
    {
      "cell_type": "code",
      "source": [
        "pred_6h_pm25 = model.predict(pred(5))"
      ],
      "metadata": {
        "id": "sKGMjFxpRbnI"
      },
      "execution_count": null,
      "outputs": []
    },
    {
      "cell_type": "code",
      "source": [
        "r2_score(y_test_reg.values[29:],pred_6h_pm25[:-5])"
      ],
      "metadata": {
        "colab": {
          "base_uri": "https://localhost:8080/"
        },
        "id": "MrToKMZjRi8B",
        "outputId": "d3d1f669-1be9-457c-c842-6adb71eb2048"
      },
      "execution_count": null,
      "outputs": [
        {
          "output_type": "execute_result",
          "data": {
            "text/plain": [
              "0.6580222545648688"
            ]
          },
          "metadata": {},
          "execution_count": 41
        }
      ]
    },
    {
      "cell_type": "code",
      "source": [
        "np.corrcoef(pred_6h_pm25[:-5],y_test_reg.values[29:])[1,0]"
      ],
      "metadata": {
        "colab": {
          "base_uri": "https://localhost:8080/"
        },
        "id": "qQsh4Vo1SDTQ",
        "outputId": "42bfcf67-3e3d-4dd0-cdc9-021a4dc9ed08"
      },
      "execution_count": null,
      "outputs": [
        {
          "output_type": "execute_result",
          "data": {
            "text/plain": [
              "0.820778472863212"
            ]
          },
          "metadata": {},
          "execution_count": 42
        }
      ]
    },
    {
      "cell_type": "code",
      "source": [
        "mean_absolute_percentage_error(pred_6h_pm25[:-5],y_test_reg.values[29:])*100"
      ],
      "metadata": {
        "colab": {
          "base_uri": "https://localhost:8080/"
        },
        "id": "4oKmHGgyNRlN",
        "outputId": "b07eb139-ab0e-4534-8652-854e9c491da7"
      },
      "execution_count": null,
      "outputs": [
        {
          "output_type": "execute_result",
          "data": {
            "text/plain": [
              "30.411621903534808"
            ]
          },
          "metadata": {},
          "execution_count": 43
        }
      ]
    }
  ]
}